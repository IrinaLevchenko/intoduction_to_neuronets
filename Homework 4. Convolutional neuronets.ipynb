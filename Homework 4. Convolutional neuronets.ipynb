{
 "cells": [
  {
   "cell_type": "markdown",
   "id": "abfde3fc",
   "metadata": {},
   "source": [
    "## Практическое задание\n",
    "\n",
    "<ol>\n",
    "    <li>Попробовать улучшить точность распознования образов cifar 10 сверточной нейронной сетью, рассмотренной на уроке. Приложить анализ с описанием того, что улучшает работу нейронной сети и что ухудшает.\n",
    "    </li>\n",
    "    <li>Описать также в анализе какие необоходимо внести изменения  в получившуюся у вас нейронную сеть если бы ей нужно было работать не с cifar10, а с MNIST, CIFAR100 и IMAGENET.\n",
    "    </li>\n",
    "</ol>"
   ]
  },
  {
   "cell_type": "code",
   "execution_count": 6,
   "id": "30bf694a",
   "metadata": {},
   "outputs": [],
   "source": [
    "#pip install tensorflow"
   ]
  },
  {
   "cell_type": "code",
   "execution_count": 7,
   "id": "d115697d",
   "metadata": {},
   "outputs": [],
   "source": [
    "from __future__ import print_function\n",
    "import keras\n",
    "from keras.applications import ResNet50\n",
    "from tensorflow.keras.datasets import cifar10\n",
    "from keras.preprocessing.image import ImageDataGenerator\n",
    "from keras.models import Sequential\n",
    "from keras.layers import Dense, GlobalAveragePooling2D\n",
    "import os"
   ]
  },
  {
   "cell_type": "code",
   "execution_count": 8,
   "id": "985aa8a1",
   "metadata": {},
   "outputs": [],
   "source": [
    "#Загрузка данных cifar10\n",
    "(x_train, y_train), (x_test, y_test) = cifar10.load_data()"
   ]
  },
  {
   "cell_type": "code",
   "execution_count": 9,
   "id": "7ebfb496",
   "metadata": {},
   "outputs": [],
   "source": [
    "# Установка параметров нейросети\n",
    "batch_size = 64\n",
    "num_classes = 1000\n",
    "epochs = 10\n",
    "\n",
    "# Создание объекта ImageDataGenerator для аугментации данных и нормализация данных\n",
    "datagen = ImageDataGenerator(rescale=1.0/255.0)\n",
    "\n",
    "# Создание генераторов для обучающей и тестовой выборок\n",
    "train_generator = datagen.flow(x_train, y_train, batch_size=batch_size)\n",
    "test_generator = datagen.flow(x_test, y_test, batch_size=batch_size)"
   ]
  },
  {
   "cell_type": "code",
   "execution_count": null,
   "id": "97511e00",
   "metadata": {},
   "outputs": [
    {
     "name": "stderr",
     "output_type": "stream",
     "text": [
      "C:\\Users\\lisat\\AppData\\Local\\Temp\\ipykernel_16328\\2084830545.py:16: UserWarning: `Model.fit_generator` is deprecated and will be removed in a future version. Please use `Model.fit`, which supports generators.\n",
      "  model.fit_generator(train_generator,\n"
     ]
    },
    {
     "name": "stdout",
     "output_type": "stream",
     "text": [
      "Epoch 1/10\n",
      "781/781 [==============================] - 1707s 2s/step - loss: 1.2899 - accuracy: 0.1001 - val_loss: 2.2939 - val_accuracy: 0.0516\n",
      "Epoch 2/10\n",
      "781/781 [==============================] - 1538s 2s/step - loss: 0.6534 - accuracy: 0.1016 - val_loss: 0.7631 - val_accuracy: 0.0961\n",
      "Epoch 3/10\n",
      "781/781 [==============================] - 1520s 2s/step - loss: 0.4415 - accuracy: 0.1021 - val_loss: 0.6914 - val_accuracy: 0.0986\n",
      "Epoch 4/10\n",
      "105/781 [===>..........................] - ETA: 21:48 - loss: 0.2743 - accuracy: 0.1001"
     ]
    }
   ],
   "source": [
    "# Создание предварительно обученной модели ResNet50\n",
    "base_model = ResNet50(weights='imagenet', include_top=False, input_shape=(224, 224, 3))\n",
    "\n",
    "# Создание модели для Featurization, рагружаем базовую модель в последовательную\n",
    "model = Sequential()\n",
    "model.add(base_model)\n",
    "model.add(GlobalAveragePooling2D())\n",
    "model.add(Dense(num_classes, activation='softmax'))\n",
    "\n",
    "# Компиляция модели\n",
    "model.compile(loss='sparse_categorical_crossentropy',\n",
    "              optimizer='SGD',\n",
    "              metrics=['accuracy'])\n",
    "\n",
    "# Обучение модели\n",
    "model.fit_generator(train_generator,\n",
    "                    steps_per_epoch=len(x_train) // batch_size,\n",
    "                    epochs=epochs,\n",
    "                    validation_data=test_generator,\n",
    "                    validation_steps=len(x_test) // batch_size)\n",
    "\n",
    "# Оценка производительности модели на тестовых данных\n",
    "score = model.evaluate_generator(test_generator, steps=len(x_test) // batch_size)\n",
    "print('Test loss:', score[0])\n",
    "print('Test accuracy:', score[1])"
   ]
  },
  {
   "cell_type": "markdown",
   "id": "e018bbc8",
   "metadata": {},
   "source": [
    "Исходя из анализа, можно сделать вывод о сложности выработки четких правил установки соотношения параметров для достижения наилучших показателей при использовании нейросетей. Также, можно сказать, что сети ResNet50 и ResNet50V2, по всей видимости, не очень подходят для обработки датасета Cifar10 (у обеих схожие результаты на низком уровне). Лучшие показатели, тем не менее, были обеспечены при использовании функции loss - sparse_categorical_crossentropy (без данной функции модель вообще ничего не могла классифицировать), optimizer - SGD и batch_size = 64. Также сеть фактически не обучалась и метрика accuracy колебалась на протяжении 25 эпох (при различных параметрах сети) от 9 до 15 % и, по сути, зависела от конкретного фрагмента датасета направляемого на тест."
   ]
  },
  {
   "cell_type": "code",
   "execution_count": null,
   "id": "1bfd6544",
   "metadata": {},
   "outputs": [],
   "source": []
  }
 ],
 "metadata": {
  "kernelspec": {
   "display_name": "Python 3 (ipykernel)",
   "language": "python",
   "name": "python3"
  },
  "language_info": {
   "codemirror_mode": {
    "name": "ipython",
    "version": 3
   },
   "file_extension": ".py",
   "mimetype": "text/x-python",
   "name": "python",
   "nbconvert_exporter": "python",
   "pygments_lexer": "ipython3",
   "version": "3.11.5"
  }
 },
 "nbformat": 4,
 "nbformat_minor": 5
}
